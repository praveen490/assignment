{
 "cells": [
  {
   "cell_type": "markdown",
   "metadata": {},
   "source": [
    "python is a completely object-oriented language. This approach towards programming seeks to treate data and functions as part of a single unit called object.\n",
    "The class defines attributes and the behaviour of the object (represents the class)\n",
    "\n",
    "Every element in a python program is an object of a class. A number, string, list, dictionary, etc.\n",
    "used in program is an object of a corresponding built in class. Even the function using the `def` keyword belongs to a function class."
   ]
  },
  {
   "cell_type": "code",
   "execution_count": 2,
   "metadata": {},
   "outputs": [
    {
     "name": "stdout",
     "output_type": "stream",
     "text": [
      "<class 'int'>\n",
      "<class 'str'>\n"
     ]
    }
   ],
   "source": [
    "num = 20\n",
    "print(type(num))\n",
    "\n",
    "s = 'python'\n",
    "print(type(s))"
   ]
  },
  {
   "cell_type": "markdown",
   "metadata": {},
   "source": [
    "---\n",
    "\n",
    "# Defining a class\n",
    "\n",
    "---\n",
    "\n",
    "***A class can be defined using the `class` keyword. A class typically includes the following members:***\n",
    "\n",
    "\n",
    "`1.Consturctor` `2.Instance Attributes` `3.Class Attributes` `4.Methods`\n",
    "\n",
    "\n",
    "***A class can also be defined without any members.***"
   ]
  },
  {
   "cell_type": "code",
   "execution_count": 4,
   "metadata": {},
   "outputs": [],
   "source": [
    "# `Person` class with a doc string \n",
    "\n",
    "class person:\n",
    "    ''' doc string: This is empty person class '''\n",
    "    pass"
   ]
  },
  {
   "cell_type": "code",
   "execution_count": 6,
   "metadata": {},
   "outputs": [],
   "source": [
    "# declare an object of the above person class\n",
    "\n",
    "p1 = person()\n",
    "p2 = person()"
   ]
  },
  {
   "cell_type": "code",
   "execution_count": 7,
   "metadata": {},
   "outputs": [],
   "source": [
    "# class includes attributes, a contructor, instance attributes/variables and methods\n",
    "\n",
    "class person:\n",
    "    count = 0  #class attribute\n",
    "    \n",
    "    def __init__(self):  #constructor\n",
    "        self.name = \"unknown\" #instance attribute\n",
    "        self.age=0            #instance atttribute\n",
    "    def displayInfo(self): #method\n",
    "        print(self.name,self.age)"
   ]
  },
  {
   "cell_type": "markdown",
   "metadata": {},
   "source": [
    "---\n",
    "\n",
    "## Constructor\n",
    "\n",
    "---\n",
    "\n",
    "***the `constuctur method` is invoked automatically whenever a new object of a class is instaniated,same as contructors in c# or java. The constructor must have a specail name __init__() and a special parameter called `self`.***\n",
    "\n",
    "the first parameter of each method in a class must be the self which refers to the calling object.\n",
    "However, you can give any name to the first parameter, not necessary `self`.\n",
    "\n"
   ]
  },
  {
   "cell_type": "code",
   "execution_count": 8,
   "metadata": {},
   "outputs": [],
   "source": [
    "class person:\n",
    "    def __init__(self): # constructor method\n",
    "        print('Contructor invoked')\n"
   ]
  },
  {
   "cell_type": "code",
   "execution_count": 10,
   "metadata": {},
   "outputs": [
    {
     "name": "stdout",
     "output_type": "stream",
     "text": [
      "Contructor invoked\n",
      "Contructor invoked\n"
     ]
    }
   ],
   "source": [
    "# whenever you create an object of the person class, the __init__() constructor method will be called\n",
    "\n",
    "p1 = person()\n",
    "\n",
    "p2 = person()\n",
    "\n",
    "'''The constructor is used to define the attributes of an instance and assign values to them.'''"
   ]
  },
  {
   "cell_type": "markdown",
   "metadata": {},
   "source": [
    "---\n",
    "\n",
    "### Instance Attributes\n",
    "\n",
    "---\n",
    "\n",
    "***Instance attributes are attributes or properties attached to an instance of a class.Instance attributes are defined in the construtor.***"
   ]
  },
  {
   "cell_type": "code",
   "execution_count": 11,
   "metadata": {},
   "outputs": [],
   "source": [
    "class person:\n",
    "    def __init__(self): #constructor\n",
    "        self.name = \"Unknown\" # instance attribute\n",
    "        self.age  = 0.        # instance attribute\n",
    "\n",
    "'''An instance attribute can be accessed using dot notation: [instance name].[attribute name]'''"
   ]
  },
  {
   "cell_type": "code",
   "execution_count": 14,
   "metadata": {},
   "outputs": [
    {
     "name": "stdout",
     "output_type": "stream",
     "text": [
      "Unknown\n",
      "0.0\n"
     ]
    }
   ],
   "source": [
    "p1 = person()\n",
    "\n",
    "print(p1.name)\n",
    "\n",
    "print(p1.age)"
   ]
  },
  {
   "cell_type": "code",
   "execution_count": 15,
   "metadata": {},
   "outputs": [
    {
     "name": "stdout",
     "output_type": "stream",
     "text": [
      "Bill\n",
      "25\n"
     ]
    }
   ],
   "source": [
    "'''set the value of attributes using the dot notation'''\n",
    "p1 = person()\n",
    "p1.name =\"Bill\"\n",
    "p1.age  =25\n",
    "print(p1.name)\n",
    "print(p1.age)\n"
   ]
  },
  {
   "cell_type": "code",
   "execution_count": 16,
   "metadata": {},
   "outputs": [],
   "source": [
    "'''specify the values of instance attributes thorugh the constructor. the following constructor includes \n",
    "the name and age parameters, other than the `self` parameter.'''\n",
    "\n",
    "class person:\n",
    "    def __init__(self, name, age):\n",
    "        self.name = name\n",
    "        self.age  = age"
   ]
  },
  {
   "cell_type": "code",
   "execution_count": 19,
   "metadata": {},
   "outputs": [
    {
     "name": "stdout",
     "output_type": "stream",
     "text": [
      "Bill\n",
      "25\n"
     ]
    }
   ],
   "source": [
    "'''specify the values while creating an instance'''\n",
    "\n",
    "p1 = person(\"Bill\",25)\n",
    "print(p1.name)\n",
    "print(p1.age)\n",
    "\n",
    "'''you don't have to specify the value of the `self` parameter. it will be assigned internally in Python''"
   ]
  },
  {
   "cell_type": "code",
   "execution_count": 20,
   "metadata": {},
   "outputs": [],
   "source": [
    "'''set default values for instance attributes. the following code stes the default values of the constructor \n",
    "parameters. so, if the values are not provided when creating an object, they values will be assigned latter'''\n",
    "\n",
    "class person:\n",
    "    def __init__(self, name=\"Guest\",age=25):\n",
    "        self.name =name\n",
    "        self.age  =age"
   ]
  },
  {
   "cell_type": "code",
   "execution_count": 22,
   "metadata": {},
   "outputs": [
    {
     "name": "stdout",
     "output_type": "stream",
     "text": [
      "Guest\n",
      "25\n"
     ]
    }
   ],
   "source": [
    "'''create an object with default values'''\n",
    "\n",
    "p1 = person()\n",
    "print(p1.name)\n",
    "print(p1.age)"
   ]
  },
  {
   "cell_type": "markdown",
   "metadata": {},
   "source": [
    "---\n",
    "### Class Attributes\n",
    "---\n",
    "\n",
    "***`Class attributes` are different from instance attributes. An attribute whose value is the same for all instances of a class is called a `class attribute`. The value of class attribute is shared by all objects.\n",
    "Class attributes are defined at class level rather than inside the constructor method `__init__().` Unlike instance attributes, class attributes are accessed using the name of the class.*** "
   ]
  },
  {
   "cell_type": "code",
   "execution_count": 23,
   "metadata": {},
   "outputs": [],
   "source": [
    "class person:\n",
    "    greet = 'Hello!'"
   ]
  },
  {
   "cell_type": "code",
   "execution_count": 24,
   "metadata": {},
   "outputs": [
    {
     "data": {
      "text/plain": [
       "'Hello!'"
      ]
     },
     "execution_count": 24,
     "metadata": {},
     "output_type": "execute_result"
    }
   ],
   "source": [
    "'''person includes a class attrubute called `greet`. This attribute can be accessed using the calss name'''\n",
    "\n",
    "person.greet"
   ]
  },
  {
   "cell_type": "code",
   "execution_count": 30,
   "metadata": {},
   "outputs": [
    {
     "name": "stdout",
     "output_type": "stream",
     "text": [
      "Hello!\n",
      "Hello!\n"
     ]
    }
   ],
   "source": [
    "'''Each object of the person class can have this class attribute accessed using object.[attribute name].'''\n",
    "\n",
    "p1 = person()\n",
    "print(p1.greet)\n",
    "\n",
    "p2=person()\n",
    "print(p2.greet)"
   ]
  },
  {
   "cell_type": "code",
   "execution_count": 35,
   "metadata": {},
   "outputs": [
    {
     "data": {
      "text/plain": [
       "'Hi!'"
      ]
     },
     "execution_count": 35,
     "metadata": {},
     "output_type": "execute_result"
    }
   ],
   "source": [
    "'''Changing the class attribute using the class name will be reflected for all the instance of a class.'''\n",
    "\n",
    "person.greet = 'Hi!'\n",
    "p2.greet"
   ]
  },
  {
   "cell_type": "code",
   "execution_count": 40,
   "metadata": {},
   "outputs": [
    {
     "name": "stdout",
     "output_type": "stream",
     "text": [
      "Hi!\n"
     ]
    }
   ],
   "source": [
    "'''changing the class attribute using the instance will not reflect elsewhere. it will affect only that particular\n",
    "instance.'''\n",
    "\n",
    "person.greet"
   ]
  },
  {
   "cell_type": "code",
   "execution_count": 45,
   "metadata": {},
   "outputs": [
    {
     "name": "stdout",
     "output_type": "stream",
     "text": [
      "Hi!\n"
     ]
    }
   ],
   "source": [
    "p1 = person()\n",
    "print(p1.greet)"
   ]
  },
  {
   "cell_type": "code",
   "execution_count": 49,
   "metadata": {},
   "outputs": [
    {
     "data": {
      "text/plain": [
       "'How are you doing?'"
      ]
     },
     "execution_count": 49,
     "metadata": {},
     "output_type": "execute_result"
    }
   ],
   "source": [
    "p1.greet = 'How are you doing?'\n",
    "p1.greet"
   ]
  },
  {
   "cell_type": "code",
   "execution_count": 50,
   "metadata": {},
   "outputs": [
    {
     "data": {
      "text/plain": [
       "'Hi!'"
      ]
     },
     "execution_count": 50,
     "metadata": {},
     "output_type": "execute_result"
    }
   ],
   "source": [
    "person.greet"
   ]
  },
  {
   "cell_type": "code",
   "execution_count": 51,
   "metadata": {},
   "outputs": [
    {
     "data": {
      "text/plain": [
       "'Hi!'"
      ]
     },
     "execution_count": 51,
     "metadata": {},
     "output_type": "execute_result"
    }
   ],
   "source": [
    "p2 = person()\n",
    "p2.greet"
   ]
  },
  {
   "cell_type": "code",
   "execution_count": 62,
   "metadata": {},
   "outputs": [],
   "source": [
    "class person:\n",
    "    totalObjects=0\n",
    "    def __init__(self):\n",
    "        person.totalObjects=person.totalObjects+1\n",
    "        \n",
    "\n"
   ]
  },
  {
   "cell_type": "markdown",
   "metadata": {},
   "source": [
    "***totalObject is an attribue in the person class. whenever a new object is created, the value of totalObject is \n",
    "incremented by 1. you can now access the totalObject attribute after creating the objects***"
   ]
  },
  {
   "cell_type": "code",
   "execution_count": 63,
   "metadata": {},
   "outputs": [
    {
     "data": {
      "text/plain": [
       "1"
      ]
     },
     "execution_count": 63,
     "metadata": {},
     "output_type": "execute_result"
    }
   ],
   "source": [
    "p1 = person()\n",
    "p1.totalObjects"
   ]
  },
  {
   "cell_type": "code",
   "execution_count": 64,
   "metadata": {},
   "outputs": [
    {
     "data": {
      "text/plain": [
       "2"
      ]
     },
     "execution_count": 64,
     "metadata": {},
     "output_type": "execute_result"
    }
   ],
   "source": [
    "p2 = person()\n",
    "p2.totalObjects"
   ]
  },
  {
   "cell_type": "markdown",
   "metadata": {},
   "source": [
    "---\n",
    "### Class Methods\n",
    "---\n",
    "\n",
    "***you can define as many methods as you want in a class using the `def` keyword. Each method must have the first parameter,generally names as `self` which refers to the calling instance.***"
   ]
  },
  {
   "cell_type": "code",
   "execution_count": 68,
   "metadata": {},
   "outputs": [],
   "source": [
    "class person:\n",
    "    def __init__(self):\n",
    "        self.name=\"unknown\"\n",
    "        self.age=0\n",
    "    def displayInfo(self): #method\n",
    "        print(self.name, self.age)\n",
    "        \n",
    "# the instance attributes of an instance can be accessed using the self parameter"
   ]
  },
  {
   "cell_type": "code",
   "execution_count": 69,
   "metadata": {},
   "outputs": [
    {
     "name": "stdout",
     "output_type": "stream",
     "text": [
      "unknown 0\n"
     ]
    }
   ],
   "source": [
    "# the methods of a class can be called using an instance\n",
    "\n",
    "p1 = person()\n",
    "p1.displayInfo()"
   ]
  },
  {
   "cell_type": "markdown",
   "metadata": {},
   "source": [
    "---\n",
    "\n",
    "# public, private and protected\n",
    "\n",
    "---\n"
   ]
  },
  {
   "cell_type": "markdown",
   "metadata": {},
   "source": [
    "---\n",
    "### public\n",
    "---\n",
    "***Public members(genarally methods declared in a class) are accessible from outside the class.\n",
    "the object of the same class is required to invoke a public method. This arrangement of private instance\n",
    "variables and public methods ensures the principle of data encapsulation.***"
   ]
  },
  {
   "cell_type": "markdown",
   "metadata": {},
   "source": [
    "***All members in a Python class are `public` by default. Any member can be accessed from outside the class environment***"
   ]
  },
  {
   "cell_type": "code",
   "execution_count": 16,
   "metadata": {},
   "outputs": [],
   "source": [
    "class employee:\n",
    "    def __init__(self, name,sal):\n",
    "        self.name = name\n",
    "        self.salary = sal"
   ]
  },
  {
   "cell_type": "code",
   "execution_count": 20,
   "metadata": {},
   "outputs": [
    {
     "name": "stdout",
     "output_type": "stream",
     "text": [
      "10000\n",
      "20000\n"
     ]
    }
   ],
   "source": [
    "# access employee class's attributes and also modify their values\n",
    "\n",
    "e1 = employee(\"Kiran\",10000)\n",
    "print(e1.salary)\n",
    "\n",
    "e1.salary=20000\n",
    "print(e1.salary)\n",
    "\n"
   ]
  },
  {
   "cell_type": "markdown",
   "metadata": {},
   "source": [
    "---\n",
    "### protected\n",
    "---\n",
    "***`protected members` of a class are accesible from within the class and are also available to its sub-classes.\n",
    "No other envoronment is permitted access to it. This enables specific resorces of the parent class to be inherited\n",
    "by the child class.***"
   ]
  },
  {
   "cell_type": "markdown",
   "metadata": {},
   "source": [
    "***To make an instance variable `protected` is to add a prefix _(single underscore) to it.***"
   ]
  },
  {
   "cell_type": "code",
   "execution_count": 23,
   "metadata": {},
   "outputs": [],
   "source": [
    "class employee:\n",
    "    def __init__(self, name, sal):\n",
    "        self._name = name        # protected attribute\n",
    "        self._salary = sal       # protected attribute     "
   ]
  },
  {
   "cell_type": "code",
   "execution_count": 25,
   "metadata": {},
   "outputs": [
    {
     "name": "stdout",
     "output_type": "stream",
     "text": [
      "10000\n"
     ]
    },
    {
     "data": {
      "text/plain": [
       "20000"
      ]
     },
     "execution_count": 25,
     "metadata": {},
     "output_type": "execute_result"
    }
   ],
   "source": [
    "# this doesn't prevent instance variables from accessing or modifying the instance\n",
    "\n",
    "e1 = employee(\"Swati\", 10000)\n",
    "print(e1._salary)\n",
    "\n",
    "e1._salary=20000\n",
    "e1._salary"
   ]
  },
  {
   "cell_type": "markdown",
   "metadata": {},
   "source": [
    "---\n",
    "### private\n",
    "---\n",
    "\n",
    "***`Private members` of a class are denied access from the enivronment outside the class. They can be handled only\n",
    "from within the class.***"
   ]
  },
  {
   "cell_type": "markdown",
   "metadata": {},
   "source": [
    "***To make an instance variable `private` is to add a prefix __(doulbe underscore). it gives a string suggestion \n",
    "not to touch it from outside the class.Any attempt to do sow will result in an AttributeError***"
   ]
  },
  {
   "cell_type": "code",
   "execution_count": 26,
   "metadata": {},
   "outputs": [],
   "source": [
    "class employee:\n",
    "    def __init__(self, name, sal):\n",
    "        self.__name=name # private attribute\n",
    "        self.__salary=sal # private attribute"
   ]
  },
  {
   "cell_type": "code",
   "execution_count": 27,
   "metadata": {},
   "outputs": [
    {
     "ename": "AttributeError",
     "evalue": "'employee' object has no attribute '__salary'",
     "output_type": "error",
     "traceback": [
      "\u001b[0;31m---------------------------------------------------------------------------\u001b[0m",
      "\u001b[0;31mAttributeError\u001b[0m                            Traceback (most recent call last)",
      "\u001b[0;32m<ipython-input-27-cd7bfff07bb5>\u001b[0m in \u001b[0;36m<module>\u001b[0;34m\u001b[0m\n\u001b[1;32m      1\u001b[0m \u001b[0me1\u001b[0m \u001b[0;34m=\u001b[0m \u001b[0memployee\u001b[0m\u001b[0;34m(\u001b[0m\u001b[0;34m\"Bill\"\u001b[0m\u001b[0;34m,\u001b[0m\u001b[0;36m10000\u001b[0m\u001b[0;34m)\u001b[0m\u001b[0;34m\u001b[0m\u001b[0;34m\u001b[0m\u001b[0m\n\u001b[0;32m----> 2\u001b[0;31m \u001b[0me1\u001b[0m\u001b[0;34m.\u001b[0m\u001b[0m__salary\u001b[0m\u001b[0;34m\u001b[0m\u001b[0;34m\u001b[0m\u001b[0m\n\u001b[0m",
      "\u001b[0;31mAttributeError\u001b[0m: 'employee' object has no attribute '__salary'"
     ]
    }
   ],
   "source": [
    "e1 = employee(\"Bill\",10000)\n",
    "e1.__salary"
   ]
  },
  {
   "cell_type": "markdown",
   "metadata": {},
   "source": [
    "***Python performs name mangling of private variables. Every member with double underscore will be changed to\n",
    "_object._class__variable. if so required, it can still be accessed from outside the class, but the practice\n",
    "should be refrained.***"
   ]
  },
  {
   "cell_type": "code",
   "execution_count": 28,
   "metadata": {},
   "outputs": [
    {
     "data": {
      "text/plain": [
       "10000"
      ]
     },
     "execution_count": 28,
     "metadata": {},
     "output_type": "execute_result"
    }
   ],
   "source": [
    "e1 = employee(\"Bill\",10000)\n",
    "e1._employee__salary"
   ]
  },
  {
   "cell_type": "code",
   "execution_count": 29,
   "metadata": {},
   "outputs": [
    {
     "data": {
      "text/plain": [
       "20000"
      ]
     },
     "execution_count": 29,
     "metadata": {},
     "output_type": "execute_result"
    }
   ],
   "source": [
    "e1._employee__salary=20000\n",
    "e1._employee__salary"
   ]
  },
  {
   "cell_type": "code",
   "execution_count": 92,
   "metadata": {},
   "outputs": [
    {
     "name": "stdout",
     "output_type": "stream",
     "text": [
      "10\n"
     ]
    }
   ],
   "source": [
    "'''we cannot access private variable directly from outside of the class. But we can access indirectly as follows'''\n",
    "class Test:\n",
    "    def __init__(self):\n",
    "        self.__x=10\n",
    "        \n",
    "t = Test()\n",
    "print(t._Test__x)"
   ]
  },
  {
   "cell_type": "markdown",
   "metadata": {},
   "source": [
    "***Python doesnot have any mechanism that effectively restricts access to any  instance variable or method.\n",
    "Python prescribes a convention of prefixing the name of the variable/method with single or double underscore to \n",
    "emulate the behaviour of protected and private access specifiers.***"
   ]
  },
  {
   "cell_type": "code",
   "execution_count": null,
   "metadata": {},
   "outputs": [],
   "source": []
  },
  {
   "cell_type": "markdown",
   "metadata": {},
   "source": [
    "---\n",
    "# Property() function\n",
    "---\n",
    "\n",
    "***The `property()` function is used to define properties in the python class.***"
   ]
  },
  {
   "cell_type": "markdown",
   "metadata": {},
   "source": [
    "Consider the following Python script which defines the `person` class as having the getter and  setter methods.\n",
    "The `getname()` method returns the value of the private instance attribute __name,\n",
    "while the `setname()` method assigns the value to the __name attribute."
   ]
  },
  {
   "cell_type": "raw",
   "metadata": {},
   "source": [
    "person.py\n",
    "class person:\n",
    "    def __init__(self, name=\"Guest\"):\n",
    "        self.__name = name\n",
    "    def setname(self, name):\n",
    "        self.__name = name\n",
    "    def getname(self):\n",
    "        return self.__name"
   ]
  },
  {
   "cell_type": "code",
   "execution_count": 45,
   "metadata": {},
   "outputs": [
    {
     "data": {
      "text/plain": [
       "'Guest'"
      ]
     },
     "execution_count": 45,
     "metadata": {},
     "output_type": "execute_result"
    }
   ],
   "source": [
    "from person import person\n",
    "p1 = person()\n",
    "p1.getname()"
   ]
  },
  {
   "cell_type": "code",
   "execution_count": 46,
   "metadata": {},
   "outputs": [
    {
     "data": {
      "text/plain": [
       "'Bill'"
      ]
     },
     "execution_count": 46,
     "metadata": {},
     "output_type": "execute_result"
    }
   ],
   "source": [
    "p1.setname('Bill')\n",
    "p1.getname()\n"
   ]
  },
  {
   "cell_type": "markdown",
   "metadata": {},
   "source": [
    "the `p1.getname()` method returns the value of attribute `__name` and the `setname()` method assigna\n",
    "a value to it. however, it would be nice if the getter and setter functions were called implicitly when we access an attribute, just like a property in Java and C#. This is where Python's built-in `property()` function comes in handy."
   ]
  },
  {
   "cell_type": "markdown",
   "metadata": {},
   "source": [
    "***The `property()` method provides an interface to instance attributes. it encapsulates instance attributes and \n",
    "provides a property, same as java and C#.\n",
    "the `property()` method takes the get, set and delete methods as arguments and returns an object of the property class.***\n",
    "\n",
    "prop = property(getty, setter, delete, docstring)"
   ]
  },
  {
   "cell_type": "code",
   "execution_count": 91,
   "metadata": {},
   "outputs": [],
   "source": [
    "class personn:\n",
    "    def __init__(self):\n",
    "        self.__name=''\n",
    "    def setname(self, name):\n",
    "        print('setname() called')\n",
    "        self.__name=name\n",
    "    def getname(self):\n",
    "        print('getname() called')\n",
    "        return self.__name\n",
    "    name = property(getname, setname)"
   ]
  },
  {
   "cell_type": "code",
   "execution_count": 92,
   "metadata": {},
   "outputs": [
    {
     "name": "stdout",
     "output_type": "stream",
     "text": [
      "setname() called\n"
     ]
    }
   ],
   "source": [
    "'''the `setname()` method gets called when we assign a value to the name property. it also hides the instance \n",
    "attrbute `__name`.'''\n",
    "\n",
    "from personn import personn\n",
    "p1 = personn()\n",
    "p1.name=\"Nani\""
   ]
  },
  {
   "cell_type": "code",
   "execution_count": 93,
   "metadata": {},
   "outputs": [
    {
     "name": "stdout",
     "output_type": "stream",
     "text": [
      "getname() called\n"
     ]
    },
    {
     "data": {
      "text/plain": [
       "'Nani'"
      ]
     },
     "execution_count": 93,
     "metadata": {},
     "output_type": "execute_result"
    }
   ],
   "source": [
    "'''the `getname()` method gets called automatically when we access the `name` property.'''\n",
    "p1.name"
   ]
  },
  {
   "cell_type": "code",
   "execution_count": 94,
   "metadata": {},
   "outputs": [],
   "source": [
    "# you can specify a deleter method for the property\n",
    "class person1:\n",
    "    def __init__(self):\n",
    "        self.__name=''\n",
    "    def setname(self, name):\n",
    "        print('setname() called')\n",
    "        self.__name=name\n",
    "    def getname(self):\n",
    "        print('getname() called')\n",
    "        return self.__name\n",
    "    def delname(self):\n",
    "        print('delname() called')\n",
    "        del self.__name\n",
    "    name = property(getname, setname, delname)"
   ]
  },
  {
   "cell_type": "code",
   "execution_count": 95,
   "metadata": {},
   "outputs": [
    {
     "name": "stdout",
     "output_type": "stream",
     "text": [
      "setname() called\n"
     ]
    }
   ],
   "source": [
    "from person1 import person1\n",
    "p1 = person1()\n",
    "p1.name='Steve'"
   ]
  },
  {
   "cell_type": "code",
   "execution_count": 96,
   "metadata": {},
   "outputs": [
    {
     "name": "stdout",
     "output_type": "stream",
     "text": [
      "delname() called\n"
     ]
    }
   ],
   "source": [
    "# the delname() function would be invoked when you delete the name property.\n",
    "del p1.name"
   ]
  },
  {
   "cell_type": "markdown",
   "metadata": {},
   "source": [
    "***@property decorator makes it easy to declare a property instead of calling the  `property()` function.***"
   ]
  },
  {
   "cell_type": "markdown",
   "metadata": {},
   "source": [
    "---\n",
    "# @property Decorator\n",
    "---\n",
    "\n",
    "***`@property` decorator allows us to define properties easily without calling the `property()` function manually.***"
   ]
  },
  {
   "cell_type": "markdown",
   "metadata": {},
   "source": [
    "what is a decorator?\n",
    "\n",
    "the funtion is a first-order object. it means that it can be passed as an argument to another function.\n",
    "it is also possible to define a function inside another function. such function is called a nested function.\n",
    "moreover, a function can return another function.\n",
    "\n",
    "***A `decorator` is a function that recieves another function as argument. The behaviour of the argument function\n",
    "is extended by the decorator without actually modifying it.***"
   ]
  },
  {
   "cell_type": "code",
   "execution_count": 2,
   "metadata": {},
   "outputs": [],
   "source": [
    "def mydecoratorfunction(some_function): # function to be decorated passed as argument\n",
    "    def wrapper_function(): # wrap the some_funtion and extends its behaviour\n",
    "        # write code to extend the behaviour of some_function()\n",
    "        some_function()          # call some_function\n",
    "        return wrapper_function  # return wrapper function"
   ]
  },
  {
   "cell_type": "markdown",
   "metadata": {},
   "source": [
    "in the above example, the `some_function` is a function whose behaviour we want to extend.\n",
    "so,we will have to write a custom function like `mydecoratorfunction()`which takes the `some_function` as an\n",
    "argument. The `wrapper_function()` is an inner  function where we can write additional code to extend the behaviour of the `some_function`, before or after calling it. And finally, the `wrapper_function()` should be returned.\n",
    "\n",
    "In this way, Python includes decorator functions. Also, we can define our own decorator function to extend the \n",
    "behaviour of a function without modifying it."
   ]
  },
  {
   "cell_type": "code",
   "execution_count": 3,
   "metadata": {},
   "outputs": [],
   "source": [
    "def display(str):\n",
    "    print(str)"
   ]
  },
  {
   "cell_type": "markdown",
   "metadata": {},
   "source": [
    "***Define a decorator function which modifies the output of the above `display()` function by prepending `output:`\n",
    "to the result of the `dispay()` function.***"
   ]
  },
  {
   "cell_type": "code",
   "execution_count": 4,
   "metadata": {},
   "outputs": [],
   "source": [
    "def displaydecorator(fn):\n",
    "    def display_wrapper(str):\n",
    "        print('Output:', end=\" \")\n",
    "        fn(str)\n",
    "    return display_wrapper"
   ]
  },
  {
   "cell_type": "code",
   "execution_count": null,
   "metadata": {},
   "outputs": [],
   "source": [
    "Now decorate this function to extend its behaviour by passing it to the decorator."
   ]
  },
  {
   "cell_type": "code",
   "execution_count": 6,
   "metadata": {},
   "outputs": [
    {
     "name": "stdout",
     "output_type": "stream",
     "text": [
      "Output: Hello World\n"
     ]
    }
   ],
   "source": [
    "out = displaydecorator(display)\n",
    "out('Hello World')"
   ]
  },
  {
   "cell_type": "markdown",
   "metadata": {},
   "source": [
    "`output` is prepended with the result of the dispaly() function. the `displaydecorator()` function is used to \n",
    "modify the behaviour of the `display()` function without modifying it."
   ]
  },
  {
   "cell_type": "markdown",
   "metadata": {},
   "source": [
    "***Python includes the `@[decorator_function_name]` syntax to specify a decorator function.\n",
    "we can specify @displaydecorator to the `display()` function to denote that the `display()` function\n",
    "is decorated with the `displaydecorator()` function.***"
   ]
  },
  {
   "cell_type": "code",
   "execution_count": 7,
   "metadata": {},
   "outputs": [],
   "source": [
    "@displaydecorator\n",
    "def display(str):\n",
    "    print(str)"
   ]
  },
  {
   "cell_type": "markdown",
   "metadata": {},
   "source": [
    "***After applying the decorator `@displaydecorator` in the above example, we can directly call the `display()` \n",
    "function to get the extended behaviour.***"
   ]
  },
  {
   "cell_type": "code",
   "execution_count": 8,
   "metadata": {},
   "outputs": [
    {
     "name": "stdout",
     "output_type": "stream",
     "text": [
      "Output: Hello World\n"
     ]
    }
   ],
   "source": [
    "display('Hello World')"
   ]
  },
  {
   "cell_type": "markdown",
   "metadata": {},
   "source": [
    "***`@property` decorator is a built-in decorator in Python for the property() function.***\n",
    "\n",
    "use the built-in @property decorator to define the `name` property in the `person` class."
   ]
  },
  {
   "cell_type": "code",
   "execution_count": 11,
   "metadata": {},
   "outputs": [],
   "source": [
    "class person:\n",
    "    def __init__(self):\n",
    "        self.__name=''\n",
    "    @property\n",
    "    def name(self):\n",
    "        return self.__name\n",
    "    @name.setter\n",
    "    def name(self, value):\n",
    "        self.__name=value"
   ]
  },
  {
   "cell_type": "markdown",
   "metadata": {},
   "source": [
    "The above `person`class includes two methods with the same name `name()`, but  with a different number of \n",
    "parameters. This is called `method overloading`. The `name(self)` function is marked with the @property decorator\n",
    "which indicates that the `name(self)` method is a getter method and the name of the property is the method name only, in this case `name`.  now, `name(self, value)` is assigning a value to the private attribute `__name`.\n",
    "so, to mark this method as a setter method for the `name` property, the `@name.setter` decorator is applied. This\n",
    "is how we can define a property and its getter and setter methods."
   ]
  },
  {
   "cell_type": "code",
   "execution_count": 12,
   "metadata": {},
   "outputs": [
    {
     "data": {
      "text/plain": [
       "'Steve'"
      ]
     },
     "execution_count": 12,
     "metadata": {},
     "output_type": "execute_result"
    }
   ],
   "source": [
    "'''we can access the 'name' property without calling the getter or setter method manually'''\n",
    "\n",
    "p = person()\n",
    "p.name='Steve'\n",
    "p.name"
   ]
  },
  {
   "cell_type": "markdown",
   "metadata": {},
   "source": [
    "***Use @[property-name].setter to call a setter method and @[property-name].deleter to call deleter method.***"
   ]
  },
  {
   "cell_type": "code",
   "execution_count": 35,
   "metadata": {},
   "outputs": [],
   "source": [
    "class person:\n",
    "    def __init__(self):\n",
    "        self.__name=''\n",
    "    @property\n",
    "    def name(self):\n",
    "        return self.__name\n",
    "    @name.setter\n",
    "    def name (self, value):\n",
    "        self.__name=value\n",
    "    @name.deleter\n",
    "    def name(self,value):\n",
    "        print('Deleting..')\n",
    "        del self.__name"
   ]
  },
  {
   "cell_type": "code",
   "execution_count": 36,
   "metadata": {},
   "outputs": [
    {
     "name": "stdout",
     "output_type": "stream",
     "text": [
      "Steve\n"
     ]
    }
   ],
   "source": [
    "p2 = person()\n",
    "p2.name='Steve'\n",
    "print(p2.name)"
   ]
  },
  {
   "cell_type": "code",
   "execution_count": null,
   "metadata": {},
   "outputs": [],
   "source": []
  },
  {
   "cell_type": "markdown",
   "metadata": {},
   "source": [
    "---\n",
    "# @classmethod decorator\n",
    "---\n",
    "***The `@classmethod` decorator can be applied on any method of a class. This decorator will allow us to call that\n",
    "method using the class name instead of the object.***"
   ]
  },
  {
   "cell_type": "code",
   "execution_count": 54,
   "metadata": {},
   "outputs": [],
   "source": [
    "class persons:\n",
    "    totalObjects=0\n",
    "    def __init__(self):\n",
    "        persons.totalObjects=persons.totalObjects+1\n",
    "        \n",
    "    @classmethod \n",
    "    def showcount(cls):\n",
    "        print(\"Total objects: \",cls.totalObjects\n",
    "             )"
   ]
  },
  {
   "cell_type": "markdown",
   "metadata": {},
   "source": [
    "In the above example, `@classmethod` is applied on the `showcount()` method. the `showcount()` method has one\n",
    "parameter `cls`, which refers to the person class. now, we can call the `showcount()` method using the class name"
   ]
  },
  {
   "cell_type": "code",
   "execution_count": 55,
   "metadata": {},
   "outputs": [
    {
     "name": "stdout",
     "output_type": "stream",
     "text": [
      "Total objects:  2\n"
     ]
    }
   ],
   "source": [
    "p1 = persons()\n",
    "p2 = persons()\n",
    "persons.showcount()"
   ]
  },
  {
   "cell_type": "code",
   "execution_count": 57,
   "metadata": {},
   "outputs": [
    {
     "name": "stdout",
     "output_type": "stream",
     "text": [
      "Total objects:  2\n"
     ]
    }
   ],
   "source": [
    "# the same method can be called using an object also.\n",
    "p1.showcount()"
   ]
  },
  {
   "cell_type": "code",
   "execution_count": null,
   "metadata": {},
   "outputs": [],
   "source": []
  },
  {
   "cell_type": "markdown",
   "metadata": {},
   "source": [
    "---\n",
    "\n",
    "# @staticmethod decorator\n",
    "\n",
    "---\n",
    "***The `staticmethod` is  a built-in decorator that defines a static method in the class in Python.\n",
    "A static method doesn't receive any reference argument whether it is called by an instance of a class \n",
    "or by the class itself.***"
   ]
  },
  {
   "cell_type": "code",
   "execution_count": 63,
   "metadata": {},
   "outputs": [],
   "source": [
    "class person:\n",
    "    @staticmethod\n",
    "    def greet():\n",
    "        print(\"Hello!\")"
   ]
  },
  {
   "cell_type": "markdown",
   "metadata": {},
   "source": [
    "In the above example, @static is applied to the `greet()` method. so, the `greet()` method can be called using\n",
    "the class name `person.great()`"
   ]
  },
  {
   "cell_type": "code",
   "execution_count": 67,
   "metadata": {},
   "outputs": [
    {
     "name": "stdout",
     "output_type": "stream",
     "text": [
      "Hello!\n",
      "Hello!\n"
     ]
    }
   ],
   "source": [
    "person.greet()\n",
    "\n",
    "p1 =person()\n",
    "p1.greet()"
   ]
  },
  {
   "cell_type": "code",
   "execution_count": null,
   "metadata": {},
   "outputs": [],
   "source": [
    "Even though both `person.greet()` and p.greet() are valid calls, the static method receives reference of neither.\n",
    "Hence it doesnot have any arguments - neither self nor cls."
   ]
  },
  {
   "cell_type": "code",
   "execution_count": null,
   "metadata": {},
   "outputs": [],
   "source": []
  },
  {
   "cell_type": "markdown",
   "metadata": {},
   "source": [
    "---\n",
    "\n",
    "# Inheritance\n",
    "___"
   ]
  },
  {
   "cell_type": "raw",
   "metadata": {},
   "source": [
    "the existing class is called base or parent class, while the new class is called child or sub class.\n",
    "\n",
    "Inheritance comes into picture when a new class possesses the 'IS-A' relationship with an existing class.\n",
    "\n",
    "ex:1\n",
    "Dog IS an aninamal. Cat also IS an animal. Hence, animal is the base class, while dog and cat are inherited classes.\n",
    "\n",
    "ex:2\n",
    "A quadrilateral has four sides. A rectangle IS a quadrilateral, and so IS a square. \n",
    "Quadrilateral is a base class (also called parent class), while rectangle and square are the inherited classes (also called child classes).\n",
    "\n",
    "The child class inherits data definitions and methods form the parent class. this facilitates the reuse of features\n",
    "already available. the child class can add a few more definitions or redefine a base class method.\n"
   ]
  },
  {
   "cell_type": "raw",
   "metadata": {},
   "source": [
    "class parent:\n",
    "    statements\n",
    "\n",
    "class child(perent):\n",
    "    statements\n",
    "    \n",
    "'''\n",
    "while defining the child class, the name of the parent class is put in the parentheses in front of it, incicating\n",
    "the relation between the two. Instance attributes and methods defined in the parent class will be inherited by the object of the child class.\n",
    "'''"
   ]
  },
  {
   "cell_type": "code",
   "execution_count": 72,
   "metadata": {},
   "outputs": [],
   "source": [
    "'''A quadrilateral class having four sides as instance variable and a perimeter() method '''\n",
    "\n",
    "class quadriLateral:\n",
    "    def __init__(self,a,b,c,d):\n",
    "        self.side1 = a\n",
    "        self.side2 = b\n",
    "        self.side3 = c\n",
    "        self.side4 = d\n",
    "    \n",
    "    def perimeter(self):\n",
    "        p = self.side1 + self.side2 + self.side3 + self.side4\n",
    "        print(\"perimeter=\",p)"
   ]
  },
  {
   "cell_type": "markdown",
   "metadata": {},
   "source": [
    "The constructor(the __init__() method) receives four parameters and assigns them to four instance variables.\n",
    "To test the above class, declare its object and invoke the `perimeter() method."
   ]
  },
  {
   "cell_type": "code",
   "execution_count": 70,
   "metadata": {},
   "outputs": [
    {
     "name": "stdout",
     "output_type": "stream",
     "text": [
      "perimeter= 22\n"
     ]
    }
   ],
   "source": [
    "q1 = quadriLateral(7,5,6,4)\n",
    "q1.perimeter()"
   ]
  },
  {
   "cell_type": "code",
   "execution_count": 76,
   "metadata": {},
   "outputs": [],
   "source": [
    "class rectangle(quadriLateral):\n",
    "    def __init__(self,a,b):\n",
    "        super().__init__(a,b,a,b )"
   ]
  },
  {
   "cell_type": "code",
   "execution_count": 77,
   "metadata": {},
   "outputs": [
    {
     "name": "stdout",
     "output_type": "stream",
     "text": [
      "perimeter= 60\n"
     ]
    }
   ],
   "source": [
    "r1 = rectangle(10,20)\n",
    "r1.perimeter()\n"
   ]
  },
  {
   "cell_type": "markdown",
   "metadata": {},
   "source": [
    "---\n",
    "\n",
    "# Overriding\n",
    "\n",
    "---"
   ]
  },
  {
   "cell_type": "code",
   "execution_count": 83,
   "metadata": {},
   "outputs": [],
   "source": [
    "class rectangle (quadriLateral):\n",
    "    def __init__(self,a,b):\n",
    "        super().__init__(a,b,a,b)\n",
    "    \n",
    "    def area(self):\n",
    "        a = self.side1 * self.side2\n",
    "        print(\"area of retangle=\", a)\n",
    "    "
   ]
  },
  {
   "cell_type": "code",
   "execution_count": 84,
   "metadata": {},
   "outputs": [],
   "source": [
    "class square(rectangle):\n",
    "    def __init__(self, a):\n",
    "        super().__init__(a,a)\n",
    "    def area(self):\n",
    "        a = pow(self.side1, 2)\n",
    "        print('Area of Square:', a)"
   ]
  },
  {
   "cell_type": "code",
   "execution_count": 85,
   "metadata": {},
   "outputs": [
    {
     "name": "stdout",
     "output_type": "stream",
     "text": [
      "Area of Square: 100\n"
     ]
    }
   ],
   "source": [
    "s = square(10)\n",
    "s.area()"
   ]
  },
  {
   "cell_type": "code",
   "execution_count": null,
   "metadata": {},
   "outputs": [],
   "source": []
  },
  {
   "cell_type": "markdown",
   "metadata": {},
   "source": [
    "---\n",
    "\n",
    "# Iterator\n",
    "\n",
    "---\n",
    "\n",
    "***the  iterator function `iter()` in pytnon. Iterators are implicitly used whenever we deal with collections of\n",
    "data types such as list,tuple or string(they are quite fittingly called iterables).\n",
    "the usual method to traverse a collecion is using the for loop.***"
   ]
  },
  {
   "cell_type": "code",
   "execution_count": 1,
   "metadata": {},
   "outputs": [
    {
     "name": "stdout",
     "output_type": "stream",
     "text": [
      "1\n",
      "2\n",
      "3\n",
      "4\n"
     ]
    }
   ],
   "source": [
    "myList = [1,2,3,4]\n",
    "for item in myList:\n",
    "    print(item)"
   ]
  },
  {
   "cell_type": "markdown",
   "metadata": {},
   "source": [
    "in the above example, the for loop iterates over a list object - myList, and prints each individual element"
   ]
  },
  {
   "cell_type": "code",
   "execution_count": 3,
   "metadata": {},
   "outputs": [],
   "source": [
    "''''when we use a for loop to traverse any iterable object, internally it uses the iter() method.'''\n",
    "\n",
    "def traverse(iterable):\n",
    "    it = iter(iterable)\n",
    "    while True:\n",
    "        try:\n",
    "            item=next(it)\n",
    "            print(item)\n",
    "        except StopIteration:\n",
    "            break"
   ]
  },
  {
   "cell_type": "markdown",
   "metadata": {},
   "source": [
    "### `iter()`\n",
    "Instead of using the for loop as shown above, we can use the iterator function `iter()`. An iterator is an object which represents a data stream. it returns one element at a time. Python's built-in method `iter()` receives an iterable and returns an iterator object. The iterator object uses the `__next__()` method. Every time it is called, the next element in the iterator is returned. when there are no more elements available, StopIteration error is encountered."
   ]
  },
  {
   "cell_type": "code",
   "execution_count": 10,
   "metadata": {},
   "outputs": [
    {
     "name": "stdout",
     "output_type": "stream",
     "text": [
      "1\n",
      "2\n",
      "3\n",
      "4\n"
     ]
    },
    {
     "ename": "StopIteration",
     "evalue": "",
     "output_type": "error",
     "traceback": [
      "\u001b[0;31m---------------------------------------------------------------------------\u001b[0m",
      "\u001b[0;31mStopIteration\u001b[0m                             Traceback (most recent call last)",
      "\u001b[0;32m<ipython-input-10-fa21f0b3b43d>\u001b[0m in \u001b[0;36m<module>\u001b[0;34m\u001b[0m\n\u001b[1;32m     10\u001b[0m \u001b[0mprint\u001b[0m\u001b[0;34m(\u001b[0m\u001b[0mit\u001b[0m\u001b[0;34m.\u001b[0m\u001b[0m__next__\u001b[0m\u001b[0;34m(\u001b[0m\u001b[0;34m)\u001b[0m\u001b[0;34m)\u001b[0m\u001b[0;34m\u001b[0m\u001b[0;34m\u001b[0m\u001b[0m\n\u001b[1;32m     11\u001b[0m \u001b[0;34m\u001b[0m\u001b[0m\n\u001b[0;32m---> 12\u001b[0;31m \u001b[0mprint\u001b[0m\u001b[0;34m(\u001b[0m\u001b[0mit\u001b[0m\u001b[0;34m.\u001b[0m\u001b[0m__next__\u001b[0m\u001b[0;34m(\u001b[0m\u001b[0;34m)\u001b[0m\u001b[0;34m)\u001b[0m\u001b[0;34m\u001b[0m\u001b[0;34m\u001b[0m\u001b[0m\n\u001b[0m",
      "\u001b[0;31mStopIteration\u001b[0m: "
     ]
    }
   ],
   "source": [
    "L1 = [1,2,3,4]\n",
    "\n",
    "it = iter(L1)\n",
    "print(it.__next__())\n",
    "\n",
    "print(it.__next__())\n",
    "\n",
    "print(it.__next__())\n",
    "\n",
    "print(it.__next__())\n",
    "\n",
    "print(it.__next__())\n"
   ]
  },
  {
   "cell_type": "markdown",
   "metadata": {},
   "source": [
    "### `next()`\n",
    "***the built-in function `next()` accepts an iterator object as a parameter and calls the `__next__` method internally. Hence, `it.__next__()` is the same as `next(it)`.***"
   ]
  },
  {
   "cell_type": "code",
   "execution_count": 16,
   "metadata": {},
   "outputs": [
    {
     "name": "stdout",
     "output_type": "stream",
     "text": [
      "1\n",
      "2\n",
      "3\n"
     ]
    },
    {
     "ename": "StopIteration",
     "evalue": "",
     "output_type": "error",
     "traceback": [
      "\u001b[0;31m---------------------------------------------------------------------------\u001b[0m",
      "\u001b[0;31mStopIteration\u001b[0m                             Traceback (most recent call last)",
      "\u001b[0;32m<ipython-input-16-df7c5cda8f46>\u001b[0m in \u001b[0;36m<module>\u001b[0;34m\u001b[0m\n\u001b[1;32m      8\u001b[0m \u001b[0mprint\u001b[0m\u001b[0;34m(\u001b[0m\u001b[0mnext\u001b[0m\u001b[0;34m(\u001b[0m\u001b[0mit\u001b[0m\u001b[0;34m)\u001b[0m\u001b[0;34m)\u001b[0m\u001b[0;34m\u001b[0m\u001b[0;34m\u001b[0m\u001b[0m\n\u001b[1;32m      9\u001b[0m \u001b[0;34m\u001b[0m\u001b[0m\n\u001b[0;32m---> 10\u001b[0;31m \u001b[0mprint\u001b[0m\u001b[0;34m(\u001b[0m\u001b[0mnext\u001b[0m\u001b[0;34m(\u001b[0m\u001b[0mit\u001b[0m\u001b[0;34m)\u001b[0m\u001b[0;34m)\u001b[0m\u001b[0;34m\u001b[0m\u001b[0;34m\u001b[0m\u001b[0m\n\u001b[0m",
      "\u001b[0;31mStopIteration\u001b[0m: "
     ]
    }
   ],
   "source": [
    "L1 = [1,2,3]\n",
    "it = iter(L1)\n",
    "\n",
    "print(next(it))\n",
    "\n",
    "print(next(it))\n",
    "\n",
    "print(next(it))\n",
    "\n",
    "print(next(it))"
   ]
  },
  {
   "cell_type": "code",
   "execution_count": 17,
   "metadata": {},
   "outputs": [
    {
     "ename": "TypeError",
     "evalue": "'int' object is not iterable",
     "output_type": "error",
     "traceback": [
      "\u001b[0;31m---------------------------------------------------------------------------\u001b[0m",
      "\u001b[0;31mTypeError\u001b[0m                                 Traceback (most recent call last)",
      "\u001b[0;32m<ipython-input-17-0fb7faa29f1b>\u001b[0m in \u001b[0;36m<module>\u001b[0;34m\u001b[0m\n\u001b[0;32m----> 1\u001b[0;31m \u001b[0miter\u001b[0m\u001b[0;34m(\u001b[0m\u001b[0;36m100\u001b[0m\u001b[0;34m)\u001b[0m\u001b[0;34m\u001b[0m\u001b[0;34m\u001b[0m\u001b[0m\n\u001b[0m",
      "\u001b[0;31mTypeError\u001b[0m: 'int' object is not iterable"
     ]
    }
   ],
   "source": [
    "'''if the argument is not iterable, e.g. number,boolean,etc., TypeError is encountered'''\n",
    "iter(100)"
   ]
  },
  {
   "cell_type": "markdown",
   "metadata": {},
   "source": [
    "The limitation of an iterator function is that it raises an exception when there is no next item. you can\n",
    "crate your own iterator function using `generator`."
   ]
  },
  {
   "cell_type": "markdown",
   "metadata": {},
   "source": [
    "---\n",
    "\n",
    "# Generator\n",
    "\n",
    "---\n",
    "***Python provides a generator to create your own `iterator function`.A generator is a special type of function which does not return a single value, instead it returns an  iterator object with a sequence of values.\n",
    "In a generator function, a `yield` statement is used rather than a `return` statement.***"
   ]
  },
  {
   "cell_type": "code",
   "execution_count": 18,
   "metadata": {},
   "outputs": [],
   "source": [
    "def myGenerator():\n",
    "    print('First item')\n",
    "    yield 10\n",
    "    \n",
    "    print('Second item')\n",
    "    yield 20\n",
    "    \n",
    "    print('Las item')\n",
    "    yield 30"
   ]
  },
  {
   "cell_type": "code",
   "execution_count": 23,
   "metadata": {},
   "outputs": [
    {
     "name": "stdout",
     "output_type": "stream",
     "text": [
      "First item\n",
      "10\n",
      "Second item\n",
      "20\n",
      "Las item\n",
      "30\n"
     ]
    },
    {
     "ename": "StopIteration",
     "evalue": "",
     "output_type": "error",
     "traceback": [
      "\u001b[0;31m---------------------------------------------------------------------------\u001b[0m",
      "\u001b[0;31mStopIteration\u001b[0m                             Traceback (most recent call last)",
      "\u001b[0;32m<ipython-input-23-cc400e34b3da>\u001b[0m in \u001b[0;36m<module>\u001b[0;34m\u001b[0m\n\u001b[1;32m      6\u001b[0m \u001b[0mprint\u001b[0m\u001b[0;34m(\u001b[0m\u001b[0mnext\u001b[0m\u001b[0;34m(\u001b[0m\u001b[0mgen\u001b[0m\u001b[0;34m)\u001b[0m\u001b[0;34m)\u001b[0m\u001b[0;34m\u001b[0m\u001b[0;34m\u001b[0m\u001b[0m\n\u001b[1;32m      7\u001b[0m \u001b[0;34m\u001b[0m\u001b[0m\n\u001b[0;32m----> 8\u001b[0;31m \u001b[0mprint\u001b[0m\u001b[0;34m(\u001b[0m\u001b[0mnext\u001b[0m\u001b[0;34m(\u001b[0m\u001b[0mgen\u001b[0m\u001b[0;34m)\u001b[0m\u001b[0;34m)\u001b[0m\u001b[0;34m\u001b[0m\u001b[0;34m\u001b[0m\u001b[0m\n\u001b[0m\u001b[1;32m      9\u001b[0m \u001b[0;34m\u001b[0m\u001b[0m\n",
      "\u001b[0;31mStopIteration\u001b[0m: "
     ]
    }
   ],
   "source": [
    "gen = myGenerator()\n",
    "print(next(gen))\n",
    "\n",
    "print(next(gen))\n",
    "\n",
    "print(next(gen))\n",
    "\n",
    "print(next(gen))\n",
    "\n"
   ]
  },
  {
   "cell_type": "markdown",
   "metadata": {},
   "source": [
    "---\n",
    "\n",
    "# Magic Methods\n",
    "\n",
    "---"
   ]
  },
  {
   "cell_type": "code",
   "execution_count": 86,
   "metadata": {},
   "outputs": [
    {
     "data": {
      "text/plain": [
       "['__abs__',\n",
       " '__add__',\n",
       " '__and__',\n",
       " '__bool__',\n",
       " '__ceil__',\n",
       " '__class__',\n",
       " '__delattr__',\n",
       " '__dir__',\n",
       " '__divmod__',\n",
       " '__doc__',\n",
       " '__eq__',\n",
       " '__float__',\n",
       " '__floor__',\n",
       " '__floordiv__',\n",
       " '__format__',\n",
       " '__ge__',\n",
       " '__getattribute__',\n",
       " '__getnewargs__',\n",
       " '__gt__',\n",
       " '__hash__',\n",
       " '__index__',\n",
       " '__init__',\n",
       " '__init_subclass__',\n",
       " '__int__',\n",
       " '__invert__',\n",
       " '__le__',\n",
       " '__lshift__',\n",
       " '__lt__',\n",
       " '__mod__',\n",
       " '__mul__',\n",
       " '__ne__',\n",
       " '__neg__',\n",
       " '__new__',\n",
       " '__or__',\n",
       " '__pos__',\n",
       " '__pow__',\n",
       " '__radd__',\n",
       " '__rand__',\n",
       " '__rdivmod__',\n",
       " '__reduce__',\n",
       " '__reduce_ex__',\n",
       " '__repr__',\n",
       " '__rfloordiv__',\n",
       " '__rlshift__',\n",
       " '__rmod__',\n",
       " '__rmul__',\n",
       " '__ror__',\n",
       " '__round__',\n",
       " '__rpow__',\n",
       " '__rrshift__',\n",
       " '__rshift__',\n",
       " '__rsub__',\n",
       " '__rtruediv__',\n",
       " '__rxor__',\n",
       " '__setattr__',\n",
       " '__sizeof__',\n",
       " '__str__',\n",
       " '__sub__',\n",
       " '__subclasshook__',\n",
       " '__truediv__',\n",
       " '__trunc__',\n",
       " '__xor__',\n",
       " 'bit_length',\n",
       " 'conjugate',\n",
       " 'denominator',\n",
       " 'from_bytes',\n",
       " 'imag',\n",
       " 'numerator',\n",
       " 'real',\n",
       " 'to_bytes']"
      ]
     },
     "execution_count": 86,
     "metadata": {},
     "output_type": "execute_result"
    }
   ],
   "source": [
    "dir(int)"
   ]
  },
  {
   "cell_type": "code",
   "execution_count": 89,
   "metadata": {},
   "outputs": [
    {
     "name": "stdout",
     "output_type": "stream",
     "text": [
      "15\n",
      "15\n"
     ]
    }
   ],
   "source": [
    "num = 10\n",
    "print(num + 5)\n",
    "\n",
    "print(num.__add__(5))"
   ]
  },
  {
   "cell_type": "code",
   "execution_count": null,
   "metadata": {},
   "outputs": [],
   "source": [
    "__new__() method"
   ]
  },
  {
   "cell_type": "code",
   "execution_count": null,
   "metadata": {},
   "outputs": [],
   "source": [
    "__str__() method"
   ]
  },
  {
   "cell_type": "code",
   "execution_count": 101,
   "metadata": {},
   "outputs": [
    {
     "name": "stdout",
     "output_type": "stream",
     "text": [
      "12\n"
     ]
    }
   ],
   "source": [
    "num = 12\n",
    "print(str(num))"
   ]
  },
  {
   "cell_type": "code",
   "execution_count": 102,
   "metadata": {},
   "outputs": [
    {
     "name": "stdout",
     "output_type": "stream",
     "text": [
      "12\n"
     ]
    }
   ],
   "source": [
    "# This is equivalent to \n",
    "print(int.__str__(num))"
   ]
  },
  {
   "cell_type": "code",
   "execution_count": null,
   "metadata": {},
   "outputs": [],
   "source": []
  }
 ],
 "metadata": {
  "kernelspec": {
   "display_name": "Python 3",
   "language": "python",
   "name": "python3"
  },
  "language_info": {
   "codemirror_mode": {
    "name": "ipython",
    "version": 3
   },
   "file_extension": ".py",
   "mimetype": "text/x-python",
   "name": "python",
   "nbconvert_exporter": "python",
   "pygments_lexer": "ipython3",
   "version": "3.7.7"
  }
 },
 "nbformat": 4,
 "nbformat_minor": 4
}
